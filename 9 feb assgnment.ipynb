{
 "cells": [
  {
   "cell_type": "code",
   "execution_count": 2,
   "id": "434e6402-25b9-4483-83f5-31a96dc59bc2",
   "metadata": {},
   "outputs": [],
   "source": [
    "'''1 ans'''\n",
    "class vehicle:\n",
    "    def __init__(self,name_of_vehicle,max_speed,avg_of_vehicle):\n",
    "        self.name=name_of_vehicle\n",
    "        self.maxspeed=max_speed\n",
    "        self.avg_of_vehicle=avg_of_vehicle\n",
    "        pass\n"
   ]
  },
  {
   "cell_type": "code",
   "execution_count": 4,
   "id": "216b89cb-fc05-4835-bd58-776af4e40fd4",
   "metadata": {},
   "outputs": [
    {
     "name": "stdout",
     "output_type": "stream",
     "text": [
      "toyota 60\n"
     ]
    }
   ],
   "source": [
    "'''2 ans'''\n",
    "class vehicle:\n",
    "    def __init__(self,name_of_vehicle,max_speed,avg_of_vehicle):\n",
    "        self.name=name_of_vehicle\n",
    "        self.maxspeed=max_speed\n",
    "        self.avg_of_vehicle=avg_of_vehicle\n",
    "class car(vehicle):\n",
    "    def seating_capacity(self,capacity=60):\n",
    "        return capacity\n",
    "toyota=car('toyota',140,60)\n",
    "print(toyota.name,toyota.seating_capacity())"
   ]
  },
  {
   "cell_type": "code",
   "execution_count": 5,
   "id": "545c0f2f-7f0d-44c6-b671-818c49c2777c",
   "metadata": {},
   "outputs": [],
   "source": [
    "'''3ans'''\n",
    "''' In multiple inheritance child class inherits properties from two or more parent class'''\n",
    "class father:\n",
    "    def __init__(self,fname,age):\n",
    "        self.fname=fname\n",
    "        self.age=age\n",
    "class mother:\n",
    "    def __init__(self,mname,age):\n",
    "        self.mname=mname\n",
    "        self.age=age\n",
    "class child(father,mother):\n",
    "    pass\n",
    "\n",
    "        "
   ]
  },
  {
   "cell_type": "code",
   "execution_count": 10,
   "id": "dc3d227b-1d25-4daf-a995-4bd8007e2536",
   "metadata": {},
   "outputs": [
    {
     "data": {
      "text/plain": [
       "30"
      ]
     },
     "execution_count": 10,
     "metadata": {},
     "output_type": "execute_result"
    }
   ],
   "source": [
    "'''4ans\n",
    "getter is function to get value of an attribute which has been passed in setter method\n",
    "whereas setter is method to set some value according to the user \n",
    "main purpose of these two in setting and getting values of an attribute through method and can not be  set and get directly '''\n",
    "class vehicle:\n",
    "    def __init__(self,name,speed,color):\n",
    "        self.__name=name\n",
    "        self.__speed=speed\n",
    "        self.__color=speed\n",
    "    def set_speed(self,speed):\n",
    "        self.__speed=0 if speed<0 else speed\n",
    "    def get_speed(self):\n",
    "        return self.__speed\n",
    "c=vehicle('bus',130,'white')\n",
    "c.set_speed(30)\n",
    "c.get_speed()"
   ]
  },
  {
   "cell_type": "code",
   "execution_count": 15,
   "id": "18fe5062-8a20-4d28-a107-ad9deadb5dcd",
   "metadata": {},
   "outputs": [
    {
     "data": {
      "text/plain": [
       "'meow'"
      ]
     },
     "execution_count": 15,
     "metadata": {},
     "output_type": "execute_result"
    }
   ],
   "source": [
    "'''5ans\n",
    "method overriding is the ability in oop language \n",
    "that allows specific implementation of a method in child classs which has already been \n",
    "written in parent class '''\n",
    "class pet:\n",
    "    def __init__(self,name):\n",
    "        self.name=name\n",
    "    def speak(self):\n",
    "        pass\n",
    "class cat(pet):\n",
    "    def speak(self):\n",
    "        return 'meow'\n",
    "class dog(pet):\n",
    "    def speak(self):\n",
    "        return 'bhow'\n",
    "    \n",
    "cat=cat('jerry')\n",
    "dog=dog('tom')\n",
    "\n",
    "dog.speak()\n"
   ]
  },
  {
   "cell_type": "code",
   "execution_count": null,
   "id": "8a1ce9b2-2b4e-481c-923b-855d02691650",
   "metadata": {},
   "outputs": [],
   "source": []
  }
 ],
 "metadata": {
  "kernelspec": {
   "display_name": "Python 3 (ipykernel)",
   "language": "python",
   "name": "python3"
  },
  "language_info": {
   "codemirror_mode": {
    "name": "ipython",
    "version": 3
   },
   "file_extension": ".py",
   "mimetype": "text/x-python",
   "name": "python",
   "nbconvert_exporter": "python",
   "pygments_lexer": "ipython3",
   "version": "3.10.6"
  }
 },
 "nbformat": 4,
 "nbformat_minor": 5
}
